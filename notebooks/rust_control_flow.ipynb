{
 "cells": [
  {
   "cell_type": "code",
   "execution_count": 2,
   "metadata": {
    "vscode": {
     "languageId": "rust"
    }
   },
   "outputs": [],
   "source": [
    "#![allow(dead_code)]\n",
    "#![allow(unused_variables)]"
   ]
  },
  {
   "cell_type": "code",
   "execution_count": 3,
   "metadata": {
    "vscode": {
     "languageId": "rust"
    }
   },
   "outputs": [
    {
     "data": {
      "text/plain": [
       "1.."
      ]
     },
     "execution_count": 3,
     "metadata": {},
     "output_type": "execute_result"
    }
   ],
   "source": [
    "// 1 to infinity, possible cause evaluated lazily\n",
    "let natural_numbers = 1..;\n",
    "natural_numbers"
   ]
  },
  {
   "cell_type": "code",
   "execution_count": 4,
   "metadata": {
    "vscode": {
     "languageId": "rust"
    }
   },
   "outputs": [
    {
     "data": {
      "text/plain": [
       "true"
      ]
     },
     "execution_count": 4,
     "metadata": {},
     "output_type": "execute_result"
    }
   ],
   "source": [
    "natural_numbers.contains(&100)"
   ]
  },
  {
   "cell_type": "code",
   "execution_count": 5,
   "metadata": {
    "vscode": {
     "languageId": "rust"
    }
   },
   "outputs": [
    {
     "data": {
      "text/plain": [
       "true"
      ]
     },
     "execution_count": 5,
     "metadata": {},
     "output_type": "execute_result"
    }
   ],
   "source": [
    "//  20 or less than 20\n",
    "(..=20).contains(&20)"
   ]
  },
  {
   "cell_type": "code",
   "execution_count": 6,
   "metadata": {
    "vscode": {
     "languageId": "rust"
    }
   },
   "outputs": [
    {
     "data": {
      "text/plain": [
       "true"
      ]
     },
     "execution_count": 6,
     "metadata": {},
     "output_type": "execute_result"
    }
   ],
   "source": [
    "(3..6).contains(&4)"
   ]
  },
  {
   "cell_type": "code",
   "execution_count": 7,
   "metadata": {
    "vscode": {
     "languageId": "rust"
    }
   },
   "outputs": [
    {
     "name": "stdout",
     "output_type": "stream",
     "text": [
      "U\n",
      "B\n"
     ]
    },
    {
     "data": {
      "text/plain": [
       "()"
      ]
     },
     "execution_count": 7,
     "metadata": {},
     "output_type": "execute_result"
    }
   ],
   "source": [
    "fn main() {\n",
    "    // for c in \"rust\".chars() {\n",
    "    //     println!(\"Give me a {}\", c);\n",
    "    // }\n",
    "\n",
    "    for c in \"SuRPRISE INbOUND\".chars()\n",
    "    .filter(|c| c.is_lowercase())\n",
    "    .flat_map(|c| c.to_uppercase()) {\n",
    "        println!(\"{}\", c);\n",
    "    }\n",
    "}\n",
    "\n",
    "main()"
   ]
  },
  {
   "cell_type": "code",
   "execution_count": 8,
   "metadata": {
    "vscode": {
     "languageId": "rust"
    }
   },
   "outputs": [],
   "source": [
    "// fluent interface everywhere in rust, \n",
    "// not classes, not mutating shared data.\n",
    "// program state is a struct, writing code to move between the states"
   ]
  },
  {
   "cell_type": "code",
   "execution_count": 9,
   "metadata": {
    "vscode": {
     "languageId": "rust"
    }
   },
   "outputs": [],
   "source": [
    "// finishing projects\n",
    "// inevitability of change\n",
    "// "
   ]
  },
  {
   "cell_type": "code",
   "execution_count": 10,
   "metadata": {
    "vscode": {
     "languageId": "rust"
    }
   },
   "outputs": [
    {
     "name": "stdout",
     "output_type": "stream",
     "text": [
      "20\n"
     ]
    },
    {
     "data": {
      "text/plain": [
       "()"
      ]
     },
     "execution_count": 10,
     "metadata": {},
     "output_type": "execute_result"
    }
   ],
   "source": [
    "fn control_flow() {\n",
    "    let mut counter = 0;\n",
    "\n",
    "    let result = loop {\n",
    "      counter += 1;\n",
    "\n",
    "      if counter == 10 {\n",
    "        break counter * 2;\n",
    "      }\n",
    "    };\n",
    "\n",
    "    println!(\"{}\", result)\n",
    "}\n",
    "\n",
    "control_flow()"
   ]
  },
  {
   "cell_type": "code",
   "execution_count": 11,
   "metadata": {
    "vscode": {
     "languageId": "rust"
    }
   },
   "outputs": [
    {
     "name": "stdout",
     "output_type": "stream",
     "text": [
      "Human { name: \"Tris\", state: Alive, home: Earth }\n"
     ]
    },
    {
     "data": {
      "text/plain": [
       "()"
      ]
     },
     "execution_count": 11,
     "metadata": {},
     "output_type": "execute_result"
    }
   ],
   "source": [
    "fn writing_contracts() {\n",
    "    // writing contract how the world works\n",
    "    #[derive(Debug)]\n",
    "    enum Living { Alive, Dead }\n",
    "    \n",
    "    #[derive(Debug)]\n",
    "    enum Planet {\n",
    "        Mercury, Venus, Earth\n",
    "    }\n",
    "\n",
    "    #[derive(Debug)]\n",
    "    struct Human {\n",
    "        name: String,\n",
    "        state: Living,\n",
    "        home: Planet\n",
    "    }\n",
    "\n",
    "    let user = Human {\n",
    "        name: \"Tris\".to_string(),\n",
    "        state: Living::Alive,\n",
    "        home: Planet::Earth\n",
    "    };\n",
    "\n",
    "    println!(\"{:?}\", user);\n",
    "}\n",
    "\n",
    "writing_contracts()"
   ]
  },
  {
   "cell_type": "code",
   "execution_count": 12,
   "metadata": {
    "vscode": {
     "languageId": "rust"
    }
   },
   "outputs": [
    {
     "name": "stdout",
     "output_type": "stream",
     "text": [
      "count = 0\n",
      "remaining = 10\n",
      "remaining = 9\n",
      "count = 1\n",
      "remaining = 10\n",
      "remaining = 9\n",
      "count = 2\n",
      "remaining = 10\n"
     ]
    },
    {
     "data": {
      "text/plain": [
       "()"
      ]
     },
     "execution_count": 12,
     "metadata": {},
     "output_type": "execute_result"
    }
   ],
   "source": [
    "fn multiple_whiles() {\n",
    "    let mut count = 0;\n",
    "    'counting_up: loop {\n",
    "        println!(\"count = {count}\");\n",
    "        let mut remaining = 10;\n",
    "\n",
    "        loop {\n",
    "            println!(\"remaining = {remaining}\");\n",
    "\n",
    "            if remaining == 9 {\n",
    "                break;\n",
    "            }\n",
    "\n",
    "            if count == 2 {\n",
    "                break 'counting_up;\n",
    "            }\n",
    "            remaining -= 1;\n",
    "        }\n",
    "        count += 1;\n",
    "    }  \n",
    "}\n",
    "\n",
    "multiple_whiles()"
   ]
  },
  {
   "cell_type": "code",
   "execution_count": 18,
   "metadata": {
    "vscode": {
     "languageId": "rust"
    }
   },
   "outputs": [
    {
     "name": "stdout",
     "output_type": "stream",
     "text": [
      "3\n",
      "2\n",
      "1\n",
      "Liftoff\n"
     ]
    },
    {
     "data": {
      "text/plain": [
       "()"
      ]
     },
     "execution_count": 18,
     "metadata": {},
     "output_type": "execute_result"
    }
   ],
   "source": [
    "fn conditional_while() {\n",
    "    let mut number = 3;\n",
    "\n",
    "    while number != 0 {\n",
    "        println!(\"{number}\");\n",
    "        number -= 1;\n",
    "    };\n",
    "\n",
    "    println!(\"Liftoff\");\n",
    "}\n",
    "\n",
    "conditional_while()"
   ]
  },
  {
   "cell_type": "code",
   "execution_count": 30,
   "metadata": {
    "vscode": {
     "languageId": "rust"
    }
   },
   "outputs": [
    {
     "name": "stdout",
     "output_type": "stream",
     "text": [
      "element in v is 1\n",
      "element in v is 2\n",
      "element in v is 3\n",
      "element in v is 4\n"
     ]
    },
    {
     "data": {
      "text/plain": [
       "()"
      ]
     },
     "execution_count": 30,
     "metadata": {},
     "output_type": "execute_result"
    }
   ],
   "source": [
    "fn looping_coll() {\n",
    "    let v = vec![1, 2, 3, 4];\n",
    "    // let a = [10, 20, 30, 40];\n",
    "\n",
    "    for element in v {\n",
    "        println!(\"element in v is {:?}\", element);\n",
    "    }\n",
    "}\n",
    "\n",
    "looping_coll()"
   ]
  },
  {
   "cell_type": "code",
   "execution_count": 34,
   "metadata": {
    "vscode": {
     "languageId": "rust"
    }
   },
   "outputs": [
    {
     "name": "stdout",
     "output_type": "stream",
     "text": [
      "3\n",
      "2\n",
      "1\n",
      "LIFTOFF\n"
     ]
    },
    {
     "data": {
      "text/plain": [
       "()"
      ]
     },
     "execution_count": 34,
     "metadata": {},
     "output_type": "execute_result"
    }
   ],
   "source": [
    "fn liftoff() {\n",
    "    for number in (1..4).rev() {\n",
    "        println!(\"{}\", number);\n",
    "    }\n",
    "    println!(\"LIFTOFF\")\n",
    "}\n",
    "\n",
    "liftoff()"
   ]
  }
 ],
 "metadata": {
  "kernelspec": {
   "display_name": "Rust",
   "language": "rust",
   "name": "rust"
  },
  "language_info": {
   "codemirror_mode": "rust",
   "file_extension": ".rs",
   "mimetype": "text/rust",
   "name": "Rust",
   "pygment_lexer": "rust",
   "version": ""
  }
 },
 "nbformat": 4,
 "nbformat_minor": 2
}
