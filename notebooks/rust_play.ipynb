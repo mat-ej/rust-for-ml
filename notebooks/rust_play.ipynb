{
 "cells": [
  {
   "cell_type": "code",
   "execution_count": 19,
   "metadata": {},
   "outputs": [],
   "source": [
    "use std::any::type_name;"
   ]
  },
  {
   "cell_type": "code",
   "execution_count": 2,
   "metadata": {},
   "outputs": [],
   "source": [
    "let sum_of_squares: u32 =\n",
    "    (1..6).map(|x| x*x).sum();"
   ]
  },
  {
   "cell_type": "code",
   "execution_count": 3,
   "metadata": {},
   "outputs": [
    {
     "data": {
      "text/plain": [
       "55"
      ]
     },
     "execution_count": 3,
     "metadata": {},
     "output_type": "execute_result"
    }
   ],
   "source": [
    "sum_of_squares"
   ]
  },
  {
   "cell_type": "code",
   "execution_count": 16,
   "metadata": {},
   "outputs": [],
   "source": [
    "fn f(a: i32) -> i32 {\n",
    "    return 1\n",
    "}\n",
    "\n",
    "let result: i32 = (1..10).map(f).sum();"
   ]
  },
  {
   "cell_type": "code",
   "execution_count": 30,
   "metadata": {},
   "outputs": [],
   "source": [
    "let mut possibly_a_number = Some(1);"
   ]
  },
  {
   "cell_type": "code",
   "execution_count": 31,
   "metadata": {},
   "outputs": [
    {
     "data": {
      "text/plain": [
       "()"
      ]
     },
     "execution_count": 31,
     "metadata": {},
     "output_type": "execute_result"
    }
   ],
   "source": [
    "possibly_a_number = None"
   ]
  },
  {
   "cell_type": "code",
   "execution_count": 33,
   "metadata": {},
   "outputs": [
    {
     "data": {
      "text/plain": [
       "0"
      ]
     },
     "execution_count": 33,
     "metadata": {},
     "output_type": "execute_result"
    }
   ],
   "source": [
    "possibly_a_number.map(|n| n + 1).unwrap_or(0)"
   ]
  },
  {
   "cell_type": "code",
   "execution_count": 21,
   "metadata": {},
   "outputs": [
    {
     "data": {
      "text/html": [
       "<pre><code class=\"language-rust\">core::any\n",
       "</code></pre>\n",
       "<pre><code class=\"language-rust\">pub const fn type_name&lt;T&gt;() -&gt; &amp;'static str\n",
       "where\n",
       "    T: ?Sized,\n",
       "</code></pre>\n",
       "<hr />\n",
       "<p>Returns the name of a type as a string slice.</p>\n",
       "<h1>Note</h1>\n",
       "<p>This is intended for diagnostic use. The exact contents and format of the\n",
       "string returned are not specified, other than being a best-effort\n",
       "description of the type. For example, amongst the strings\n",
       "that <code>type_name::&lt;Option&lt;String&gt;&gt;()</code> might return are <code>&quot;Option&lt;String&gt;&quot;</code> and\n",
       "<code>&quot;std::option::Option&lt;std::string::String&gt;&quot;</code>.</p>\n",
       "<p>The returned string must not be considered to be a unique identifier of a\n",
       "type as multiple types may map to the same type name. Similarly, there is no\n",
       "guarantee that all parts of a type will appear in the returned string: for\n",
       "example, lifetime specifiers are currently not included. In addition, the\n",
       "output may change between versions of the compiler.</p>\n",
       "<p>The current implementation uses the same infrastructure as compiler\n",
       "diagnostics and debuginfo, but this is not guaranteed.</p>\n",
       "<h1>Examples</h1>\n",
       "<pre><code class=\"language-rust\">assert_eq!(\n",
       "    std::any::type_name::&lt;Option&lt;String&gt;&gt;(),\n",
       "    &quot;core::option::Option&lt;alloc::string::String&gt;&quot;,\n",
       ");\n",
       "</code></pre>\n"
      ],
      "text/plain": [
       "core::any\n",
       "\n",
       "pub const fn type_name<T>() -> &'static str\n",
       "where\n",
       "    T: ?Sized,\n",
       "\n",
       "\n",
       "Returns the name of a type as a string slice.\n",
       "\n",
       "NoteThis is intended for diagnostic use. The exact contents and format of the string returned are not specified, other than being a best-effort description of the type. For example, amongst the strings that type_name::<Option<String>>() might return are \"Option<String>\" and \"std::option::Option<std::string::String>\".\n",
       "\n",
       "The returned string must not be considered to be a unique identifier of a type as multiple types may map to the same type name. Similarly, there is no guarantee that all parts of a type will appear in the returned string: for example, lifetime specifiers are currently not included. In addition, the output may change between versions of the compiler.\n",
       "\n",
       "The current implementation uses the same infrastructure as compiler diagnostics and debuginfo, but this is not guaranteed.\n",
       "\n",
       "Examplesassert_eq!(\n",
       "    std::any::type_name::<Option<String>>(),\n",
       "    \"core::option::Option<alloc::string::String>\",\n",
       ");"
      ]
     },
     "execution_count": 21,
     "metadata": {},
     "output_type": "execute_result"
    }
   ],
   "source": [
    ":doc type_name"
   ]
  },
  {
   "cell_type": "code",
   "execution_count": 20,
   "metadata": {},
   "outputs": [
    {
     "ename": "Error",
     "evalue": "this function takes 0 arguments but 1 argument was supplied",
     "output_type": "error",
     "traceback": [
      "\u001b[31m[E0061] Error:\u001b[0m this function takes 0 arguments but 1 argument was supplied",
      "   \u001b[38;5;246m╭\u001b[0m\u001b[38;5;246m─\u001b[0m\u001b[38;5;246m[\u001b[0mcommand_20:1:1\u001b[38;5;246m]\u001b[0m",
      "   \u001b[38;5;246m│\u001b[0m",
      " \u001b[38;5;246m1 │\u001b[0m \u001b[38;5;100mt\u001b[0m\u001b[38;5;100my\u001b[0m\u001b[38;5;100mp\u001b[0m\u001b[38;5;100me\u001b[0m\u001b[38;5;100m_\u001b[0m\u001b[38;5;100mn\u001b[0m\u001b[38;5;100ma\u001b[0m\u001b[38;5;100mm\u001b[0m\u001b[38;5;100me\u001b[0m\u001b[38;5;249m(\u001b[0m\u001b[38;5;54mr\u001b[0m\u001b[38;5;54me\u001b[0m\u001b[38;5;54ms\u001b[0m\u001b[38;5;54mu\u001b[0m\u001b[38;5;54ml\u001b[0m\u001b[38;5;54mt\u001b[0m\u001b[38;5;249m)\u001b[0m",
      " \u001b[38;5;240m  │\u001b[0m \u001b[38;5;100m─\u001b[0m\u001b[38;5;100m─\u001b[0m\u001b[38;5;100m─\u001b[0m\u001b[38;5;100m─\u001b[0m\u001b[38;5;100m┬\u001b[0m\u001b[38;5;100m─\u001b[0m\u001b[38;5;100m─\u001b[0m\u001b[38;5;100m─\u001b[0m\u001b[38;5;100m─\u001b[0m \u001b[38;5;54m─\u001b[0m\u001b[38;5;54m─\u001b[0m\u001b[38;5;54m─\u001b[0m\u001b[38;5;54m┬\u001b[0m\u001b[38;5;54m─\u001b[0m\u001b[38;5;54m─\u001b[0m  ",
      " \u001b[38;5;240m  │\u001b[0m     \u001b[38;5;100m╰\u001b[0m\u001b[38;5;100m─\u001b[0m\u001b[38;5;100m─\u001b[0m\u001b[38;5;100m─\u001b[0m\u001b[38;5;100m─\u001b[0m\u001b[38;5;100m─\u001b[0m\u001b[38;5;100m─\u001b[0m\u001b[38;5;100m─\u001b[0m\u001b[38;5;100m─\u001b[0m\u001b[38;5;100m─\u001b[0m\u001b[38;5;100m─\u001b[0m\u001b[38;5;100m─\u001b[0m\u001b[38;5;100m─\u001b[0m\u001b[38;5;100m─\u001b[0m error: this function takes 0 arguments but 1 argument was supplied",
      " \u001b[38;5;240m  │\u001b[0m              \u001b[38;5;54m│\u001b[0m    ",
      " \u001b[38;5;240m  │\u001b[0m              \u001b[38;5;54m╰\u001b[0m\u001b[38;5;54m─\u001b[0m\u001b[38;5;54m─\u001b[0m\u001b[38;5;54m─\u001b[0m\u001b[38;5;54m─\u001b[0m unexpected argument of type `i32`",
      " \u001b[38;5;240m  │\u001b[0m ",
      " \u001b[38;5;240m  │\u001b[0m \u001b[38;5;115mNote\u001b[0m: note: function defined herehelp: remove the extra argument: ``",
      "\u001b[38;5;246m───╯\u001b[0m"
     ]
    },
    {
     "ename": "Error",
     "evalue": "unused variable: `a`",
     "output_type": "error",
     "traceback": [
      "\u001b[31m[unused_variables] Error:\u001b[0m unused variable: `a`"
     ]
    }
   ],
   "source": [
    "type_name(result)"
   ]
  },
  {
   "cell_type": "code",
   "execution_count": 11,
   "metadata": {},
   "outputs": [
    {
     "data": {
      "text/plain": [
       "1"
      ]
     },
     "execution_count": 11,
     "metadata": {},
     "output_type": "execute_result"
    }
   ],
   "source": [
    "f(10)"
   ]
  },
  {
   "cell_type": "code",
   "execution_count": 12,
   "metadata": {},
   "outputs": [
    {
     "data": {
      "text/plain": [
       "1..10"
      ]
     },
     "execution_count": 12,
     "metadata": {},
     "output_type": "execute_result"
    }
   ],
   "source": [
    "(1..10)"
   ]
  }
 ],
 "metadata": {
  "kernelspec": {
   "display_name": "Rust",
   "language": "rust",
   "name": "rust"
  },
  "language_info": {
   "codemirror_mode": "rust",
   "file_extension": ".rs",
   "mimetype": "text/rust",
   "name": "rust",
   "pygment_lexer": "rust",
   "version": ""
  }
 },
 "nbformat": 4,
 "nbformat_minor": 2
}
