{
 "cells": [
  {
   "cell_type": "markdown",
   "metadata": {},
   "source": [
    "# Ownership"
   ]
  },
  {
   "cell_type": "markdown",
   "metadata": {},
   "source": [
    "STACK \n",
    "- stack of plates, last in first out, all same size.\n",
    "- pushing data onto stack is not allocating\n",
    "- Pushing to stack faster than heap - no need to search for space big enough, the location is simply always on top of stack\n",
    "\n",
    "HEAP \n",
    "- data of unknown size at compile time or size that might change is stored on the heap.\n",
    "- when you request certain mem size, mem allocator finds space big enough and returns a pointer - \"allocating on the heap\"\n",
    "- pointer to the heap is known, of fixed size, you can store it on a stack -> if you want the data you have to go on heap\n",
    "- \n",
    "\n",
    "\n",
    "ex. waiting for a place in restaurant:\n",
    "- you state the number of ppl, host finds table big enough, if someone from my group comes late they can ask where they seated you.\n",
    "\n",
    "Processors are faster if they jump around less in memory.\n",
    "- its faster if server first takes all orders from table A, then from table B etc. than jumping from A to B\n",
    "- PROCESSOR CAN DO ITS JOB BETTER IF IT WORKS ON DATA THATS CLOSE TO OTHER DATA\n",
    "- the other data is on STACK already, rather than farther away (as that can be on the HEAP)\n",
    "\n",
    "<br >\n",
    "CALLING A FUNC\n",
    "\n",
    "- when code calls a function, all data entering the function, (including possible pointers to the heap) are pushed onto STACK\n",
    "\n",
    "- when function is over, those vals get popped of the STACK\n",
    "\n",
    "OBJECTIVES\n",
    "- keeping track of what parts of code is accessing what data on the heap\n",
    "- minimize duplicate data on heap\n",
    "- cleaning up unused data on heap, so we dont run out.\n",
    "- main purpose of ownership is to manage heap data\n"
   ]
  },
  {
   "cell_type": "markdown",
   "metadata": {},
   "source": [
    "#### Ownership\n",
    "- each value has an owner\n",
    "- there can be only one owner at a time\n",
    "- when the owner goes out of scope, values get dropped"
   ]
  },
  {
   "cell_type": "code",
   "execution_count": 2,
   "metadata": {
    "vscode": {
     "languageId": "rust"
    }
   },
   "outputs": [
    {
     "data": {
      "text/plain": [
       "()"
      ]
     },
     "execution_count": 2,
     "metadata": {},
     "output_type": "execute_result"
    }
   ],
   "source": [
    "{\n",
    "    let s = \"hello\";\n",
    "}"
   ]
  },
  {
   "cell_type": "markdown",
   "metadata": {
    "vscode": {
     "languageId": "rust"
    }
   },
   "source": [
    "- i32, i64 ... known size, can be on STACK and popped off when their scope is over\n",
    "- String... stored on HEAP, cause size unknown\n",
    "- String literal type immutable, second string type can be mutable ...HEAP\n"
   ]
  },
  {
   "cell_type": "code",
   "execution_count": 8,
   "metadata": {
    "vscode": {
     "languageId": "rust"
    }
   },
   "outputs": [
    {
     "ename": "Error",
     "evalue": "cannot find value `s` in this scope",
     "output_type": "error",
     "traceback": [
      "\u001b[31m[E0425] Error:\u001b[0m cannot find value `s` in this scope",
      "   \u001b[38;5;246m╭\u001b[0m\u001b[38;5;246m─\u001b[0m\u001b[38;5;246m[\u001b[0mcommand_8:1:1\u001b[38;5;246m]\u001b[0m",
      "   \u001b[38;5;246m│\u001b[0m",
      " \u001b[38;5;246m8 │\u001b[0m \u001b[38;5;249m \u001b[0m\u001b[38;5;249m \u001b[0m\u001b[38;5;249m \u001b[0m\u001b[38;5;249m \u001b[0m\u001b[38;5;249mp\u001b[0m\u001b[38;5;249mr\u001b[0m\u001b[38;5;249mi\u001b[0m\u001b[38;5;249mn\u001b[0m\u001b[38;5;249mt\u001b[0m\u001b[38;5;249ml\u001b[0m\u001b[38;5;249mn\u001b[0m\u001b[38;5;249m!\u001b[0m\u001b[38;5;249m(\u001b[0m\u001b[38;5;249m\"\u001b[0m\u001b[38;5;249m{\u001b[0m\u001b[38;5;54ms\u001b[0m\u001b[38;5;249m}\u001b[0m\u001b[38;5;249m\"\u001b[0m\u001b[38;5;249m)\u001b[0m\u001b[38;5;249m;\u001b[0m",
      " \u001b[38;5;240m  │\u001b[0m                \u001b[38;5;54m┬\u001b[0m  ",
      " \u001b[38;5;240m  │\u001b[0m                \u001b[38;5;54m╰\u001b[0m\u001b[38;5;54m─\u001b[0m\u001b[38;5;54m─\u001b[0m not found in this scope",
      "\u001b[38;5;246m───╯\u001b[0m"
     ]
    }
   ],
   "source": [
    "fn freeing_mem() {\n",
    "    {\n",
    "        let mut s = String::from(\"hello\");\n",
    "        s.push_str(\", world!\");\n",
    "        println!(\"{s}\");\n",
    "    }\n",
    "\n",
    "    println!(\"{s}\");\n",
    "}"
   ]
  },
  {
   "cell_type": "markdown",
   "metadata": {
    "vscode": {
     "languageId": "rust"
    }
   },
   "source": [
    "- str literal we known contents at compile time, text is hardcoded into final executable\n",
    "- String type, we need growable piece of text hence amount of mem of heap, unknown at compile time\n",
    "- String::from requests memory it needs\n",
    "- We need a way of returning this memory to the alloc when we are done with String. How ?\n",
    "    - GC - Garbage collector\n",
    "    - Freeing memory is our responsibility\n",
    "        - Difficult problem to free mem on our own\n",
    "        - pairing exactly one **allocate** with one **free**\n",
    "    - Rust returns memory once the variable that owns it goes out of scope.\n",
    "    - Rust calls drop function automatically at closing curly bracket"
   ]
  },
  {
   "cell_type": "markdown",
   "metadata": {},
   "source": [
    "#### Moving variables"
   ]
  },
  {
   "cell_type": "code",
   "execution_count": 12,
   "metadata": {
    "vscode": {
     "languageId": "rust"
    }
   },
   "outputs": [],
   "source": [
    "// bind val 5 to x, make a copy of val in x and bind to y\n",
    "// integers are simple vals of fixed size that can be pushed onto the stack\n",
    "let x = 5;\n",
    "let y = x;"
   ]
  },
  {
   "cell_type": "markdown",
   "metadata": {},
   "source": [
    "Strings are made of pointer on the stack and memory allocated on the heap"
   ]
  },
  {
   "cell_type": "code",
   "execution_count": 17,
   "metadata": {
    "vscode": {
     "languageId": "rust"
    }
   },
   "outputs": [],
   "source": [
    "// string is different\n",
    "// s1: STACK: [pointer, len, capacity] -> HEAP [index, value] \n",
    "// len how much mem in bytes the string is currently using\n",
    "// capacity is total amt of mem that String has received from the allocator\n",
    "let s1 = String::from(\"hello\");\n",
    "let s2 = s1;"
   ]
  },
  {
   "cell_type": "markdown",
   "metadata": {
    "vscode": {
     "languageId": "rust"
    }
   },
   "source": [
    "So what happens above ? \n",
    "- assigning s1 to s2 does copy the STACK part: [pointer, len, capacity], but does nothin with the HEAP part.\n",
    "- effectively creating two pointers to the same heap memory space\n",
    "\n",
    "double free error\n",
    "- if both s1 and s2 go out of scope, they both try to free the same memory, this is true for s1, s2 poiting to HEAP"
   ]
  },
  {
   "cell_type": "code",
   "execution_count": null,
   "metadata": {
    "vscode": {
     "languageId": "rust"
    }
   },
   "outputs": [
    {
     "ename": "Error",
     "evalue": "unused variable: `s2`",
     "output_type": "error",
     "traceback": [
      "\u001b[31m[unused_variables] Error:\u001b[0m unused variable: `s2`",
      "   \u001b[38;5;246m╭\u001b[0m\u001b[38;5;246m─\u001b[0m\u001b[38;5;246m[\u001b[0mcommand_23:1:1\u001b[38;5;246m]\u001b[0m",
      "   \u001b[38;5;246m│\u001b[0m",
      " \u001b[38;5;246m5 │\u001b[0m \u001b[38;5;249m \u001b[0m\u001b[38;5;249m \u001b[0m\u001b[38;5;249m \u001b[0m\u001b[38;5;249m \u001b[0m\u001b[38;5;249ml\u001b[0m\u001b[38;5;249me\u001b[0m\u001b[38;5;249mt\u001b[0m\u001b[38;5;249m \u001b[0m\u001b[38;5;54ms\u001b[0m\u001b[38;5;54m2\u001b[0m\u001b[38;5;249m \u001b[0m\u001b[38;5;249m=\u001b[0m\u001b[38;5;249m \u001b[0m\u001b[38;5;249ms\u001b[0m\u001b[38;5;249m1\u001b[0m\u001b[38;5;249m;\u001b[0m",
      " \u001b[38;5;240m  │\u001b[0m         \u001b[38;5;54m─\u001b[0m\u001b[38;5;54m┬\u001b[0m  ",
      " \u001b[38;5;240m  │\u001b[0m          \u001b[38;5;54m╰\u001b[0m\u001b[38;5;54m─\u001b[0m\u001b[38;5;54m─\u001b[0m warning: unused variable: `s2`",
      " \u001b[38;5;240m  │\u001b[0m          \u001b[38;5;100m│\u001b[0m  ",
      " \u001b[38;5;240m  │\u001b[0m          \u001b[38;5;100m╰\u001b[0m\u001b[38;5;100m─\u001b[0m\u001b[38;5;100m─\u001b[0m help: if this is intentional, prefix it with an underscore: `_s2`",
      "\u001b[38;5;246m───╯\u001b[0m"
     ]
    },
    {
     "ename": "Error",
     "evalue": "borrow of moved value: `s1`",
     "output_type": "error",
     "traceback": [
      "\u001b[31m[E0382] Error:\u001b[0m borrow of moved value: `s1`",
      "   \u001b[38;5;246m╭\u001b[0m\u001b[38;5;246m─\u001b[0m\u001b[38;5;246m[\u001b[0mcommand_23:1:1\u001b[38;5;246m]\u001b[0m",
      "   \u001b[38;5;246m│\u001b[0m",
      " \u001b[38;5;246m3 │\u001b[0m \u001b[38;5;249m \u001b[0m\u001b[38;5;249m \u001b[0m\u001b[38;5;249m \u001b[0m\u001b[38;5;249m \u001b[0m\u001b[38;5;249ml\u001b[0m\u001b[38;5;249me\u001b[0m\u001b[38;5;249mt\u001b[0m\u001b[38;5;249m \u001b[0m\u001b[38;5;68ms\u001b[0m\u001b[38;5;68m1\u001b[0m\u001b[38;5;249m \u001b[0m\u001b[38;5;249m=\u001b[0m\u001b[38;5;249m \u001b[0m\u001b[38;5;249mS\u001b[0m\u001b[38;5;249mt\u001b[0m\u001b[38;5;249mr\u001b[0m\u001b[38;5;249mi\u001b[0m\u001b[38;5;249mn\u001b[0m\u001b[38;5;249mg\u001b[0m\u001b[38;5;249m:\u001b[0m\u001b[38;5;249m:\u001b[0m\u001b[38;5;249mf\u001b[0m\u001b[38;5;249mr\u001b[0m\u001b[38;5;249mo\u001b[0m\u001b[38;5;249mm\u001b[0m\u001b[38;5;249m(\u001b[0m\u001b[38;5;249m\"\u001b[0m\u001b[38;5;249mH\u001b[0m\u001b[38;5;249me\u001b[0m\u001b[38;5;249ml\u001b[0m\u001b[38;5;249ml\u001b[0m\u001b[38;5;249mo\u001b[0m\u001b[38;5;249m\"\u001b[0m\u001b[38;5;249m)\u001b[0m\u001b[38;5;249m;\u001b[0m",
      " \u001b[38;5;240m  │\u001b[0m         \u001b[38;5;68m─\u001b[0m\u001b[38;5;68m┬\u001b[0m  ",
      " \u001b[38;5;240m  │\u001b[0m          \u001b[38;5;68m╰\u001b[0m\u001b[38;5;68m─\u001b[0m\u001b[38;5;68m─\u001b[0m move occurs because `s1` has type `String`, which does not implement the `Copy` trait",
      " \u001b[38;5;240m  │\u001b[0m ",
      " \u001b[38;5;246m5 │\u001b[0m \u001b[38;5;249m \u001b[0m\u001b[38;5;249m \u001b[0m\u001b[38;5;249m \u001b[0m\u001b[38;5;249m \u001b[0m\u001b[38;5;249ml\u001b[0m\u001b[38;5;249me\u001b[0m\u001b[38;5;249mt\u001b[0m\u001b[38;5;249m \u001b[0m\u001b[38;5;249ms\u001b[0m\u001b[38;5;249m2\u001b[0m\u001b[38;5;249m \u001b[0m\u001b[38;5;249m=\u001b[0m\u001b[38;5;249m \u001b[0m\u001b[38;5;54ms\u001b[0m\u001b[38;5;54m1\u001b[0m\u001b[38;5;249m;\u001b[0m",
      " \u001b[38;5;240m  │\u001b[0m              \u001b[38;5;54m─\u001b[0m\u001b[38;5;54m┬\u001b[0m\u001b[38;5;37m│\u001b[0m ",
      " \u001b[38;5;240m  │\u001b[0m               \u001b[38;5;54m╰\u001b[0m\u001b[38;5;54m─\u001b[0m\u001b[38;5;54m─\u001b[0m value moved here",
      " \u001b[38;5;240m  │\u001b[0m                \u001b[38;5;37m│\u001b[0m ",
      " \u001b[38;5;240m  │\u001b[0m                \u001b[38;5;37m╰\u001b[0m\u001b[38;5;37m─\u001b[0m help: consider cloning the value if the performance cost is acceptable: `.clone()`",
      " \u001b[38;5;240m  │\u001b[0m ",
      " \u001b[38;5;246m7 │\u001b[0m \u001b[38;5;249m \u001b[0m\u001b[38;5;249m \u001b[0m\u001b[38;5;249m \u001b[0m\u001b[38;5;249m \u001b[0m\u001b[38;5;249mp\u001b[0m\u001b[38;5;249mr\u001b[0m\u001b[38;5;249mi\u001b[0m\u001b[38;5;249mn\u001b[0m\u001b[38;5;249mt\u001b[0m\u001b[38;5;249ml\u001b[0m\u001b[38;5;249mn\u001b[0m\u001b[38;5;249m!\u001b[0m\u001b[38;5;249m(\u001b[0m\u001b[38;5;249m\"\u001b[0m\u001b[38;5;100m{\u001b[0m\u001b[38;5;100ms\u001b[0m\u001b[38;5;100m1\u001b[0m\u001b[38;5;100m}\u001b[0m\u001b[38;5;249m\"\u001b[0m\u001b[38;5;249m)\u001b[0m",
      " \u001b[38;5;240m  │\u001b[0m               \u001b[38;5;100m─\u001b[0m\u001b[38;5;100m─\u001b[0m\u001b[38;5;100m┬\u001b[0m\u001b[38;5;100m─\u001b[0m  ",
      " \u001b[38;5;240m  │\u001b[0m                 \u001b[38;5;100m╰\u001b[0m\u001b[38;5;100m─\u001b[0m\u001b[38;5;100m─\u001b[0m\u001b[38;5;100m─\u001b[0m value borrowed here after move",
      "\u001b[38;5;246m───╯\u001b[0m"
     ]
    }
   ],
   "source": [
    "fn prevents_double_free() {\n",
    "    // s1 does not implement the copy trait\n",
    "    let s1 = String::from(\"Hello\");\n",
    "    // moving s1 into s2, MOVE / \"shallow copy\" only the STACK pointers\n",
    "    let s2 = s1;\n",
    "    // s1 no longer valid\n",
    "    println!(\"{s1}\")\n",
    "}\n",
    "prevents_double_free()\n",
    "\n",
    "// rust never creates deep copies on its own."
   ]
  },
  {
   "cell_type": "code",
   "execution_count": 27,
   "metadata": {
    "vscode": {
     "languageId": "rust"
    }
   },
   "outputs": [
    {
     "name": "stdout",
     "output_type": "stream",
     "text": [
      "ahoj, world!\n"
     ]
    },
    {
     "data": {
      "text/plain": [
       "()"
      ]
     },
     "execution_count": 27,
     "metadata": {},
     "output_type": "execute_result"
    }
   ],
   "source": [
    "fn overwriting_strings() {\n",
    "    // get STACK [pointer, len , capacity] -> HEAP [index, val]\n",
    "    let mut s = String::from(\"hello\");\n",
    "    // overwrite the HEAP part only\n",
    "    s = String::from(\"ahoj\");\n",
    "\n",
    "    // original string goes out of scope, Rust calls .drop\n",
    "\n",
    "    println!(\"{s}, world!\");\n",
    "}\n",
    "overwriting_strings()"
   ]
  },
  {
   "cell_type": "code",
   "execution_count": 32,
   "metadata": {
    "vscode": {
     "languageId": "rust"
    }
   },
   "outputs": [
    {
     "name": "stdout",
     "output_type": "stream",
     "text": [
      "hello, hello\n"
     ]
    },
    {
     "data": {
      "text/plain": [
       "()"
      ]
     },
     "execution_count": 32,
     "metadata": {},
     "output_type": "execute_result"
    }
   ],
   "source": [
    "fn cloning_is_deep_copy() {\n",
    "    let s1 = String::from(\"hello\");\n",
    "    let s2 = s1.clone();\n",
    "    \n",
    "    println!(\"{s1}, {s2}\");\n",
    "}\n",
    "cloning_is_deep_copy()"
   ]
  },
  {
   "cell_type": "markdown",
   "metadata": {
    "vscode": {
     "languageId": "rust"
    }
   },
   "source": [
    "#### Stack only data"
   ]
  },
  {
   "cell_type": "code",
   "execution_count": 36,
   "metadata": {
    "vscode": {
     "languageId": "rust"
    }
   },
   "outputs": [
    {
     "name": "stdout",
     "output_type": "stream",
     "text": [
      "5, 5\n"
     ]
    },
    {
     "data": {
      "text/plain": [
       "()"
      ]
     },
     "execution_count": 36,
     "metadata": {},
     "output_type": "execute_result"
    }
   ],
   "source": [
    "fn fixed_sized_does_deep_copy() {\n",
    "    // i32 fixed size, copy easy to make\n",
    "    let x: i32 = 5;\n",
    "    let y: i32 = x;\n",
    "    println!(\"{x}, {y}\");\n",
    "}\n",
    "\n",
    "fixed_sized_does_deep_copy()"
   ]
  },
  {
   "cell_type": "markdown",
   "metadata": {},
   "source": [
    "#### Copy annotation"
   ]
  },
  {
   "cell_type": "code",
   "execution_count": 46,
   "metadata": {
    "vscode": {
     "languageId": "rust"
    }
   },
   "outputs": [
    {
     "name": "stdout",
     "output_type": "stream",
     "text": [
      "ahoy\n",
      "5\n",
      "5\n"
     ]
    }
   ],
   "source": [
    "fn takes_ownership(some_string: String) {\n",
    "    // String unknown size at compile time so MOVE\n",
    "    println!(\"{some_string}\");\n",
    "}\n",
    "\n",
    "fn makes_copy(some_int: i32) {\n",
    "    // i32 known size at compile time, STACK only, so COPY\n",
    "    println!(\"{some_int}\");\n",
    "}\n",
    "\n",
    "fn moving_is_ownership() {\n",
    "    let s = String::from(\"ahoy\");\n",
    "\n",
    "    takes_ownership(s); // s moves into fn\n",
    "                        // s no longer valid here\n",
    "\n",
    "    // println!(\"{s}\"); // s got dropped this fails\n",
    "\n",
    "\n",
    "    let x:i32 = 5;      // x comes into scope\n",
    "    makes_copy(x);      // i32 implements Copy trait so x does NOT move\n",
    "\n",
    "    println!(\"{x}\");\n",
    "}\n",
    "\n",
    "moving_is_ownership();"
   ]
  },
  {
   "cell_type": "markdown",
   "metadata": {},
   "source": [
    "types implementing Copy trait\n",
    "- u32, i32 ...\n",
    "- bool\n",
    "- f64\n",
    "- char\n",
    "- (i32, i32) Tuples if they only contain types that impement Copy\n",
    "- (i32, String) does not implement Copy"
   ]
  },
  {
   "cell_type": "markdown",
   "metadata": {
    "vscode": {
     "languageId": "rust"
    }
   },
   "source": [
    "#### Returning values and scope"
   ]
  },
  {
   "cell_type": "code",
   "execution_count": null,
   "metadata": {
    "vscode": {
     "languageId": "rust"
    }
   },
   "outputs": [],
   "source": [
    "fn gives_ownership() -> String {\n",
    "    let some_string = String::from(\"ahoy is yours\");\n",
    "\n",
    "    return some_string;\n",
    "}\n",
    "\n",
    "fn takes_and_gives_back(a_string: String) -> String {\n",
    "    return a_string;\n",
    "}\n",
    "\n",
    "fn return_vals_and_scope() { \n",
    "    let s1 = gives_ownership();\n",
    "\n",
    "    let s2 = String::from(\"ETELA\");\n",
    "    let s3 = takes_and_gives_back(s2);\n",
    "\n",
    "    // println!(\"{s2}\"); FAILS cause s2 is moved into s3\n",
    "}\n",
    "\n",
    "return_vals_and_scope();"
   ]
  },
  {
   "cell_type": "code",
   "execution_count": 55,
   "metadata": {
    "vscode": {
     "languageId": "rust"
    }
   },
   "outputs": [
    {
     "name": "stdout",
     "output_type": "stream",
     "text": [
      "The length of 'hello' is 5.\n"
     ]
    }
   ],
   "source": [
    "fn returning_tuples() {\n",
    "    let s1 = String::from(\"hello\");\n",
    "\n",
    "    let (s2, len) = calculate_length(s1);\n",
    "\n",
    "    println!(\"The length of '{s2}' is {len}.\");\n",
    "}\n",
    "\n",
    "fn calculate_length(s: String) -> (String, usize) {\n",
    "    let length = s.len(); // len() returns the length of a String\n",
    "\n",
    "    (s, length)\n",
    "}\n",
    "\n",
    "returning_tuples();"
   ]
  }
 ],
 "metadata": {
  "kernelspec": {
   "display_name": "Rust",
   "language": "rust",
   "name": "rust"
  },
  "language_info": {
   "codemirror_mode": "rust",
   "file_extension": ".rs",
   "mimetype": "text/rust",
   "name": "Rust",
   "pygment_lexer": "rust",
   "version": ""
  }
 },
 "nbformat": 4,
 "nbformat_minor": 2
}
